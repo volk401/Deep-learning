{
  "cells": [
    {
      "cell_type": "markdown",
      "metadata": {
        "id": "view-in-github",
        "colab_type": "text"
      },
      "source": [
        "<a href=\"https://colab.research.google.com/github/volk401/Deep-learning/blob/main/notebooks/Lab1.ipynb\" target=\"_parent\"><img src=\"https://colab.research.google.com/assets/colab-badge.svg\" alt=\"Open In Colab\"/></a>"
      ]
    },
    {
      "cell_type": "markdown",
      "source": [
        "# Лабораторная работа №1"
      ],
      "metadata": {
        "id": "HsvLg8M8ebUX"
      }
    },
    {
      "cell_type": "markdown",
      "metadata": {
        "id": "VrOocc6D_O7M"
      },
      "source": [
        "# Задание\n",
        "\n",
        "Необходимо познакомиться с фреймворком машинного обучения PyTorch и выполнить три задания:\n",
        "1. Регрессия по теореме универсальной аппроксимации, ручное дифференцирование\n",
        "2. Бинарная классификация с помощью автодиффиренцирования PyTorch\n",
        "3. Обучить полносвязную нейронную сеть классификации 3 классов изображений из набора данных CIFAR100 по варианту с точностью на тестовой выборке не менее 70%.\n",
        "\n",
        "Для задания 3 нужно сформировать свою подвыборку CIFAR100 по варианту.\n",
        "\n",
        "Лабораторные выполняются на платформе Google Colab - просто перейдите по ссылки в начале ноутбука. Также можно работать с ноубуками лабораторных локально.\n",
        "\n",
        "Отчет должен содержать: титульный лист, задание с вариантом, скриншоты и краткие пояснения по каждому этапу лабораторной работы."
      ]
    },
    {
      "cell_type": "markdown",
      "source": [
        "# Варианты для Задания 3\n",
        "Вы должны использовать следующие классы из CIFAR100:\n",
        "1. Номер группы + 4\n",
        "2. Номер варианта + 17\n",
        "3. Номер варианта + 42"
      ],
      "metadata": {
        "id": "fpq20OpJhje4"
      }
    },
    {
      "cell_type": "markdown",
      "source": [
        "# Контрольные вопросы\n",
        "1. Что такое функция потерь\n",
        "2. Что такое оптимизатор\n",
        "3. Что такое активационная функция\n",
        "4. Полносвязная нейронная сеть\n",
        "5. Количество нейронов связей и весов в полносвязной нейронной сети\n",
        "6. Что такое эпоха, итерация, батч обучения\n",
        "7. Что такое тестовая, обучающая выборка\n",
        "8. Как устроен набор данных, какие в нем данные и их количество\n",
        "9. Что такое PyTorch\n",
        "10. Обучение с учителем\n",
        "11. Задачи регрессии и классификации"
      ],
      "metadata": {
        "id": "UNO1xJtZdf37"
      }
    },
    {
      "cell_type": "markdown",
      "metadata": {
        "id": "FDgKl3yGd-W_"
      },
      "source": [
        "### Методы и функции PyTorch\n",
        "\n",
        "(Документация: https://pytorch.org/docs/stable/index.html)"
      ]
    },
    {
      "cell_type": "markdown",
      "metadata": {
        "id": "IKXfCiiWf2MK"
      },
      "source": [
        "Библиотеки:\n",
        "\n",
        "* __np__ - библиотека NumPy для работы с многомерными массивами данных\n",
        "* __pickle__ - библиотека Pickle для сериализации и десериализации структур данных ЯП Python\n",
        "* __sklearn__ - библиотека, реализующая в основном методы классического машинного обучения и инструменты для работы с ними\n",
        "* __PIL__ - легковесная библиотека Pillow для работы с изображениями и вывода графических элементов напрямую в Jupyter Notebook\n",
        "* __matplotlib__ - библиотека для построения графиков, по большей части повторяет API Matlab'a\n",
        "* __torch__ - библиотека Pytorch для глубокого обучения нейронных сетей"
      ]
    },
    {
      "cell_type": "markdown",
      "metadata": {
        "id": "MMmc6jvid-XB"
      },
      "source": [
        "__Принятые сокращения__: \n",
        "* torch.nn - nn\n",
        "* torch.nn.functional - F\n",
        "* torch.optim - optim\n",
        "\n",
        "__Методы__:\n",
        "* __torch.Tensor__ - cоздает тензор из многомерного массива Numpy и наследует его тип данных. По умолчанию память под тензоры выделяется на CPU. При выставлении флага __requires_grad__ автоматически отслеживает градиенты с помощью движка autograd, который строит динамический вычислительный граф. Включить отслеживания тензора __t__ можно так же при помощи метода __t.requires_grad_(True)__. В таком случае после вызова метода __backward__, в поле __grad__ будут записаны производные. Производные тензора __t__ можно очистить вызовом метода __t.grad.zero_()__. Для того чтобы отсечь ненужные вычисления производных используется метод __detach__, который создаёт копию тензора, при этом флаг __requires_grad__ снимается и отслеживание движком autograd прекращается.\n",
        "\n",
        "* __torch.numpy__ - создает многомерный NumPy массив данных из тензора\n",
        "\n",
        "* __torch.item__ - возвращает число, но только если ранг тензора 0. В противном случае выдаёт ошибку и следует использовать torch.numpy\n",
        "\n",
        "* __torch.uint8__, __torch.int16__, __torch.int64__, __torch.float32__ - приведение массива к новому типу, аналогично NumPy. Для приведения используется метод .to (например `t.to(torch.int64)`). По умолчанию все вычисления на графе производятся в float64, есть также возможность использования mixed precision (что-то во float16, что-то во float64), но это считается продвинутой техникой.\n",
        "\n",
        "* __torch.ones__, __torch.zeros__, __torch.transpose__, __torch.reshape__ - API похожий, как у NumPy\n",
        "\n",
        "* __torch.rand__ - создание случайного тензора с числами в диапазоне от 0 до 1. Размерность перечисляется через запятую\n",
        "\n",
        "* __torch.t__ - транспонирование тензора, похоже на рассмотренный ранее __numpy.transpose__. Если дан тензор X, то можно его транспонировать при помощи `X.t()` \n",
        "\n",
        "* __torch.sum__ - суммирование элементов тензора вдоль указанной оси __axis__. Если суммирование производится вдоль последней оси, то разрешается указать вместо номера -1. Для сохранения исходной размерности тензора, необходимо выставить флаг __keepdims__.\n",
        "\n",
        "* __torch.maximum__ - производит поэлементное сравнение тензоров и возвращает максимальный из элементов. На практике используется для реализации некоторых функций активации нейронной сети\n",
        "\n",
        "* __torch.mm__ - произведение тензоров. Для 2 двухмерных матриц с размерностями (M, N) и (N, K) результатом данного метода будет двухмерная матрица размерностью (M, K)\n",
        "\n",
        "* __torch.exp__ - повторяет функционал __numpy.exp__ - поэлементное возведение тензора в степень экспоненты\n",
        "\n",
        "* __torch.log__ - поэлементная операция логарифмирования тензора - взятие натурального логарифма, обратная операция потенциирования\n",
        "\n",
        "* __torch.flatten__ - аналогично NumPy .reshape(-1), если указан параметр start_dim, то начинает \"выпрямление\" массива начиная с указанного номера. Т.е. для того, чтобы перевести тензор t с формой (100, 32, 32, 3) в форму (100, 3072) достаточно написать `torch.flatten(t, start_dim=1)`\n",
        "\n",
        "* __F.one_hot__ - один из многих способов получить горячую кодировку класса в виде PyTorch тензора. Например, для 5 классов, горячая кодировка класса \"4\" будет [0, 0, 0, 1, 0]\n",
        "\n",
        "* __torch.utils.data.TensorDataset__ - создание связанных тензоров, например обучающих примеров и соответствующих меток. В качестве аргумента передаются тензоры. Приемлемый способ создания набора данных, когда обучающая выборка некрупная и полностью помещается в оперативной памяти.\n",
        "\n",
        "* __torch.utils.data.DataLoader__ - В основе утилиты загрузки данных PyTorch лежит класс DataLoader. Он представляет собой Python объект, повторяющийся по набору данных, с поддержкой набора данных в стиле map и итератора; настройки порядка загрузки данных; автоматического разбиения на минибатчи;загрузки данных в один и несколько процессов/потоков. Самые полезные аргументы в конструкторе - размер мини-батча __batch_size__ и число параллельных процессов __num_workers__. Чтобы перемешать данные (для лучшей сходимости), следует выставить флаг __shuffle__ в True\n",
        "\n",
        "* __torch.save__ - сохранение параметров модели на постоянный носитель информации. Для этого первым аргументом передаётся model.state_dict(), где model - обученная нейросетевая модель, а вторым аргументов передаётся путь с именем файла.\n"
      ]
    },
    {
      "cell_type": "markdown",
      "metadata": {
        "id": "mM59NsM-d-XC"
      },
      "source": [
        "__Создание моделей__:\n",
        "\n",
        "Создание моделей осуществляется при помощи модуля nn, при этом в модуле уже реализованы самые популярные блоки нейронных сетей или слои, такие как: \n",
        "* полносвязный слов Linear\n",
        "* свёрточный слой Conv2d\n",
        "* пуллинг MaxPool2d\n",
        "* нормализация BatchNorm2d\n",
        "* множество активационных функций ReLU, Softmax, Tanh\n",
        "* слои-регуляризаторы, например Dropout\n",
        "\n",
        "В данной лабораторной работе мы рассмотрим лишь 2 блока-кирпичика нейронной сети из выше приведённого списка, а именно Linear и ReLU.\n",
        "\n",
        "Задать модель можно 2 способам: \n",
        "\n",
        "1. при помощи nn.Sequential\n",
        "2. при помощи наследования от класса nn.Module\n",
        "\n",
        "Первый способ подходит для создания простых моделей без ответвлений. По сути их можно представить как конвейер, где входной тензор передается ряду последовательно приведённых трансформаций для получения выходного тензора.\n",
        "\n",
        "Если необходимо применять более сложные архитектуры, где конвейерные дорожки могут разветвляться на несколько частей, то используется nn.Module. Данный подход позволяет реализовать самые разные архитектуры.\n",
        "\n",
        "Для создания простого многослойного перцептрона с одним скрытым слоем и функцией нелинейности, согласно первому способу достаточно написать следующий код:\n",
        "\n",
        "    model = nn.Sequential(\n",
        "      nn.Linear(input_dims, hidden_dims),\n",
        "      nn.ReLU(),\n",
        "      nn.Linear(hidden_dims, num_classes) \n",
        "    )\n",
        "\n",
        "Для создания простого многослойного перцептрона с одним скрытым слоем и функцией нелинейности, согласно второму способу необходимо создать класс и модель как экземпляр этого класса:\n",
        "\n",
        "    class MLP(nn.Module):\n",
        "        def __init__(self, input_dims, hidden_dims, num_classes,\n",
        "                     *args, **kwargs):\n",
        "            super(MLP, self).__init__()\n",
        "            self.fc1 = Linear(input_dims, hidden_dims)\n",
        "            self.fc2 = Linear(hidden_dims, num_classes)\n",
        "        \n",
        "        def forward(self, input):\n",
        "             x = self.fc1(input)\n",
        "             x = F.relu(x)\n",
        "             x = self.fc2(x)\n",
        "             return x\n",
        "    \n",
        "    model = MLP(input_dims, hidden_dims, num_classes) \n",
        "\n",
        "При этом допускается вкладывать nn.Module и nn.Sequential внутри других модулей, что позволяет создавать очень сложные архитектуры моделей.\n",
        "\n"
      ]
    },
    {
      "cell_type": "markdown",
      "metadata": {
        "id": "FmxEqwWLd-XD"
      },
      "source": [
        "__Обучение моделей__:\n",
        "\n",
        "Перед обучением моделей необходимо выбрать функцию потерь и оптимизатор. Различные функции потерь представлены также в модуле nn:\n",
        "* __nn.MSELoss__ - среднеквадратическая ошибка (y_true-y_pred)**2\n",
        "* __nn.BCEWithLogitsLoss__ - бинарная перекрёстная энтропия для задач бинарной классификации\n",
        "* __nn.CrossEntropyLoss__ - категориальная перекрёстная энтропия для задач многоклассовой классификации\n",
        "\n",
        "В качестве альтернативы можно собственноручно реализовать функцию потерь, например для MSELoss:\n",
        "\n",
        "    inputs, y = batch\n",
        "    ...\n",
        "    output = model(inputs)\n",
        "    loss = ((output - y)**2).sum()\n",
        "    ...\n",
        "\n",
        "Оптимизаторы содержатся в модуле __torch.optim__. Существует множество оптимизаторов целевой функции, классическим является стохастический градиентный спуск Stochastic Gradient Descent или SGD. В конструктор класса необходимо передать веса модели, а также указать шаг обучения или learning rate. \n",
        "\n",
        "Для перевода модели в состояние обучения необходимо вызвать метод __train__. После чего модель готова для обучения.\n",
        "\n",
        "Для обучения нейросетевых моделей используется градиентный спуск и его разновидности, в основе которых лежит метод последовательных приближений. \n",
        "\n",
        "За одну эпоху условно выбирают прохождение итератора через весь набор данных, за одну итерацию - оптимизация параметров модели с помощью текущего мини-батча. PyTorch автоматически считает производные при вызове метода __backward__, применённому к функции потерь. \n",
        "\n",
        "При этом при повторном вызове, значения новых градиентов добавятся к предыдущим расчитанным. Поэтому, для избежания нежелательных эффектов принято очищать прошлые значения градиентов на каждой итерации при помощи метода __zero_grad__, применённого к экземпляру класса оптимизатора.\n",
        "\n",
        "Для обновления параметров нейронной сети используется метод __step__, применённый к экземпляру класса оптимизатора."
      ]
    },
    {
      "cell_type": "markdown",
      "metadata": {
        "id": "oJ2fTXUPd-XD"
      },
      "source": [
        "__Проверка качества моделей__:\n",
        "\n",
        "Для перевода модели в состояние проверки необходимо вызвать метод __eval__. После чего модель готова для проверки.\n",
        "\n",
        "Выходной тензор предсказаний модели необходимо отсечь от вычислительного графа. Для этого используется метод __detach__, применённый к выходному тензору модели. В противном случае возможны утечки памяти. Метод __numpy__ конвертирует тензор в многомерный массив NumPy.\n",
        "\n",
        "По умолчанию модель выводит так называемые логиты классов, а не их вероятности. Для получения вероятностей необходимо применить функцию активации __Softmax__. Однако на практике это необязательно, поскольку величина логитов согласуется с вероятностью классов, и для получения номера наиболее вероятного класса этот этап можно опустить. Номер класса получается при помощи либо метода __argmax__, либо метода __argsort__, причём последний позволяет считать такие метрики, как Accuracy@5 и метрики ранжирования.\n",
        "\n"
      ]
    },
    {
      "cell_type": "markdown",
      "metadata": {
        "id": "fzjC1ECbdj-Z"
      },
      "source": [
        "## Импортирование необходимых библиотек"
      ]
    },
    {
      "cell_type": "code",
      "execution_count": 1,
      "metadata": {
        "id": "3O2PElov-nod"
      },
      "outputs": [],
      "source": [
        "import numpy as np\n",
        "import torch\n",
        "import torch.optim as optim\n",
        "import torch.nn as nn\n",
        "import torch.nn.functional as F\n",
        "from torch.utils.data import TensorDataset, DataLoader\n",
        "import pickle\n",
        "from sklearn.metrics import classification_report\n",
        "from sklearn.datasets import make_circles, make_moons\n",
        "from PIL import Image\n",
        "import matplotlib.pyplot as plt\n",
        "%matplotlib inline"
      ]
    },
    {
      "cell_type": "markdown",
      "metadata": {
        "id": "CTpTR1x0YYdn"
      },
      "source": [
        "# Часть 1. Задача регрессии по теореме универсальной аппроксимации, ручное дифференцирование"
      ]
    },
    {
      "cell_type": "markdown",
      "metadata": {
        "id": "sqpCNuNKufbZ"
      },
      "source": [
        "## Генерация выборки и инициализация параметров нейронной сети"
      ]
    },
    {
      "cell_type": "code",
      "execution_count": 2,
      "metadata": {
        "colab": {
          "base_uri": "https://localhost:8080/",
          "height": 265
        },
        "id": "ity2_RGkYX8S",
        "outputId": "53adceaf-df35-422a-f1cf-b8709be7c029"
      },
      "outputs": [
        {
          "output_type": "display_data",
          "data": {
            "text/plain": [
              "<Figure size 432x288 with 1 Axes>"
            ],
            "image/png": "[encoded data removed]"
          },
          "metadata": {
            "needs_background": "light"
          }
        }
      ],
      "source": [
        "X = (np.arange(100)/100 - 0.5).repeat(5)\n",
        "\n",
        "y = 1/(1+np.exp(-10*X))\n",
        "yn = np.random.normal(scale=0.05, size=y.size)+y\n",
        "\n",
        "plt.plot(X, yn)\n",
        "plt.plot(X, y, linestyle='--', c='k')\n",
        "################################################\n",
        "tensor_X = torch.Tensor(X.reshape(-1, 1))\n",
        "tensor_y = torch.Tensor(yn.reshape(-1, 1))\n",
        "\n",
        "HIDDEN_SIZE = 64\n",
        "# Инициализация весов MLP с одним скрытым слоём\n",
        "weights_1 = (torch.rand(1, HIDDEN_SIZE)-.5)/10\n",
        "bias_1 = torch.zeros(HIDDEN_SIZE)\n",
        "\n",
        "weights_2 = (torch.rand(HIDDEN_SIZE, 1)-.5)/10\n",
        "bias_2 = torch.zeros(1)"
      ]
    },
    {
      "cell_type": "markdown",
      "metadata": {
        "id": "1UZe3zl6uj7J"
      },
      "source": [
        "## Обучение нейронной сети задачи регрессии"
      ]
    },
    {
      "cell_type": "code",
      "execution_count": 3,
      "metadata": {
        "id": "LFZI-IamaceN",
        "colab": {
          "base_uri": "https://localhost:8080/",
          "height": 282
        },
        "outputId": "3516b492-ca0f-4714-df26-a702941c83cb"
      },
      "outputs": [
        {
          "output_type": "stream",
          "name": "stdout",
          "text": [
            "0.003014119\n"
          ]
        },
        {
          "output_type": "display_data",
          "data": {
            "text/plain": [
              "<Figure size 432x288 with 1 Axes>"
            ],
            "image/png": "[encoded data removed]"
          },
          "metadata": {
            "needs_background": "light"
          }
        }
      ],
      "source": [
        "# Определяем функцию нелинейности\n",
        "relu = lambda x: torch.maximum(x, torch.Tensor([0]))\n",
        "# Прямой проход\n",
        "forward = lambda x: (weights_2.t()*relu((weights_1*x) + bias_1) # bias нужен чтобы реагировать на пустоту\n",
        "                      ).sum(axis=-1,keepdims=True) + bias_2\n",
        "loss = lambda y, y_: ((y-y_)**2).sum(axis=-1)\n",
        "\n",
        "# # обратный проход\n",
        "def backward(X, y, y_pred):\n",
        "    # производная функции потерь по y_pred\n",
        "    dL = 2*(y_pred-y)\n",
        "    # значения нейронов скрытого слоя до применения активации\n",
        "    Ax = (weights_1*X) + bias_1\n",
        "    # значения нейронов скрытого слоя после применения активации\n",
        "    A = relu(Ax)\n",
        "    # производная функции потерь по weight_2\n",
        "    dW2 = torch.mm(A.t(), dL)\n",
        "    # производная функции потерь по bias_2\n",
        "    db2 = dL.sum(axis=0)\n",
        "    # производная функции потерь по значениям скрытого слоя после активации\n",
        "    dA = torch.mm(dL, weights_2.t())\n",
        "    # производная функции потерь по значениям скрытого слоя до активации\n",
        "    dA[Ax<=0] = 0\n",
        "    # производная функции потерь по weight_1\n",
        "    dW = torch.mm(X.t(), dA)\n",
        "    # производная функции потерь по bias_1\n",
        "    db = dA.sum(axis=0)\n",
        "    #print(dW.shape, db.shape, dW2.shape, db2.shape)\n",
        "    return dW, db, dW2, db2\n",
        "\n",
        "def optimize(params, grads, lr=0.001):\n",
        "    # градиентный спуск по всей обучающей выборке\n",
        "    W1, b1, W2, b2 = params\n",
        "    W1 -= lr*grads[0]\n",
        "    W2 -= lr*grads[2]\n",
        "    b1 -= lr*grads[1]\n",
        "    b2 -= lr*grads[3]\n",
        "    return W1, b1, W2, b2\n",
        "\n",
        "for i in range(50000): # 50 тысяч итераций градиентного спуска == 50 тысяч эпох\n",
        "  output = forward(tensor_X)\n",
        "  cur_loss = loss(output, tensor_y)\n",
        "  grads = backward(tensor_X, tensor_y, output)\n",
        "  params = [weights_1, bias_1, weights_2, bias_2]\n",
        "  weights_1, bias_1, weights_2, bias_2 = optimize(params, grads, 1e-4)\n",
        "  if (i+1)%10000 == 0:\n",
        "      plt.plot(X, output.numpy(), label=str(i+1), alpha=0.5)\n",
        "plt.plot(X, y, linestyle='--', c='k', label='real')\n",
        "plt.legend()\n",
        "plt.ylim(y.min(), y.max())\n",
        "print(cur_loss.numpy().mean())"
      ]
    },
    {
      "cell_type": "markdown",
      "metadata": {
        "id": "qq1r9u6hSucR"
      },
      "source": [
        "# Часть 2. Бинарная классификация с помощью автодиффиренцирования PyTorch"
      ]
    },
    {
      "cell_type": "markdown",
      "metadata": {
        "id": "z_96UjOJuOPs"
      },
      "source": [
        "## Генерация выборки и инициализация параметров нейронной сети"
      ]
    },
    {
      "cell_type": "code",
      "execution_count": 4,
      "metadata": {
        "colab": {
          "base_uri": "https://localhost:8080/",
          "height": 265
        },
        "id": "fNVT1K3IS33Y",
        "outputId": "32d53620-6b7b-4605-a637-4695e735da16"
      },
      "outputs": [
        {
          "output_type": "display_data",
          "data": {
            "text/plain": [
              "<Figure size 432x288 with 1 Axes>"
            ],
            "image/png": "[encoded data removed]"
          },
          "metadata": {
            "needs_background": "light"
          }
        }
      ],
      "source": [
        "X = np.random.randint(2, size=(1000, 2))\n",
        "\n",
        "y = (X[:, 0] + X[:, 1]) % 2 # XOR\n",
        "X = X + np.random.normal(0, scale=0.1, size=X.shape)\n",
        "#X, y = make_circles(n_samples=1000, noise=0.025)\n",
        "#X, y = make_moons(n_samples=1000, noise=0.025)\n",
        "plt.scatter(X[:, 0], X[:, 1], c=y)\n",
        "####################################################\n",
        "tensor_X = torch.Tensor(X.reshape(-1, 2))\n",
        "tensor_y = torch.Tensor(y.reshape(-1, 1))\n",
        "\n",
        "HIDDEN_SIZE = 16\n",
        "# Инициализация весов MLP с одним скрытым слоём\n",
        "weights_1 = ((torch.rand(2, HIDDEN_SIZE)-.5)/10).detach().requires_grad_(True)\n",
        "bias_1 = torch.zeros(HIDDEN_SIZE, requires_grad=True)\n",
        "\n",
        "weights_2 = ((torch.rand(HIDDEN_SIZE, 1)-.5)/10).detach().requires_grad_(True)\n",
        "bias_2 = torch.zeros(1, requires_grad=True)"
      ]
    },
    {
      "cell_type": "markdown",
      "metadata": {
        "id": "YSKqixxWuTb8"
      },
      "source": [
        "## Обучение нейронной сети задачи классификации"
      ]
    },
    {
      "cell_type": "code",
      "execution_count": 5,
      "metadata": {
        "colab": {
          "base_uri": "https://localhost:8080/",
          "height": 282
        },
        "id": "XioBMI-KW1qx",
        "outputId": "6928be1b-d270-444b-fcef-c2b703bae800"
      },
      "outputs": [
        {
          "output_type": "execute_result",
          "data": {
            "text/plain": [
              "[<matplotlib.lines.Line2D at 0x7fdf0954da90>]"
            ]
          },
          "metadata": {},
          "execution_count": 5
        },
        {
          "output_type": "display_data",
          "data": {
            "text/plain": [
              "<Figure size 432x288 with 1 Axes>"
            ],
            "image/png": "[encoded data removed]"
          },
          "metadata": {
            "needs_background": "light"
          }
        }
      ],
      "source": [
        "# Определяем функцию нелинейности\n",
        "def sigmoid(x):\n",
        "    return 1/(1+torch.exp(-x))\n",
        "\n",
        "# Прямой проход\n",
        "def forward(x):\n",
        "    hidden = torch.mm(x, weights_1) + bias_1\n",
        "    hidden_nonlin = sigmoid(hidden)\n",
        "    output = (weights_2.t()*hidden_nonlin).sum(axis=-1,keepdims=True) + bias_2\n",
        "    return sigmoid(output)\n",
        "                       \n",
        "# Logloss\n",
        "def loss(y_true, y_pred):\n",
        "    return -1*(y_true*torch.log(y_pred)+(1-y_true)*torch.log(1-y_pred)).sum() # crossentropy\n",
        "\n",
        "# задаём шаг обучения\n",
        "lr = 1e-3\n",
        "# задаём число итераций\n",
        "iters = 10000\n",
        "params = [weights_1, bias_1, weights_2, bias_2]\n",
        "losses = []\n",
        "for i in range(iters):\n",
        "    output = forward(tensor_X)\n",
        "    lossval = loss(tensor_y, output)\n",
        "    lossval.backward() # тут включается в работу autograd\n",
        "    for w in params:\n",
        "        with torch.no_grad():\n",
        "            w -= w.grad*lr # обновляем веса\n",
        "        w.grad.zero_() # зануляем градиенты, чтобы не накапливались за итерации\n",
        "    losses.append(lossval.item())\n",
        "# выводим историю функции потерь по итерациям\n",
        "plt.plot(losses)"
      ]
    },
    {
      "cell_type": "markdown",
      "metadata": {
        "id": "pghpgU0WuXCS"
      },
      "source": [
        "## Проверка результатов обучения"
      ]
    },
    {
      "cell_type": "code",
      "execution_count": 6,
      "metadata": {
        "colab": {
          "base_uri": "https://localhost:8080/",
          "height": 282
        },
        "id": "qMNBdwBOikFj",
        "outputId": "5dd543cc-dd7d-4dd5-e2b9-edf6ca83a5ad"
      },
      "outputs": [
        {
          "output_type": "execute_result",
          "data": {
            "text/plain": [
              "(-0.43674591305549776, 1.4663764581684648)"
            ]
          },
          "metadata": {},
          "execution_count": 6
        },
        {
          "output_type": "display_data",
          "data": {
            "text/plain": [
              "<Figure size 432x288 with 1 Axes>"
            ],
            "image/png": "[encoded data removed]"
          },
          "metadata": {
            "needs_background": "light"
          }
        }
      ],
      "source": [
        "X_diff = X.max() - X.min()\n",
        "X_left = X.min() - 0.1*X_diff\n",
        "X_right = X.max() + 0.1*X_diff\n",
        "grid = np.arange(X_left, X_right, 0.01)\n",
        "grid_width = grid.size\n",
        "surface = []\n",
        "# создаем точки по сетке\n",
        "for x1 in grid:\n",
        "    for x2 in grid:\n",
        "        surface.append((x1, x2))\n",
        "surface = np.array(surface)\n",
        "# получаем предсказания для всех точек\n",
        "with torch.no_grad():\n",
        "    Z = forward(torch.Tensor(surface)).detach().numpy()\n",
        "# меняем форму в виде двухмерного массива\n",
        "Z = Z.reshape(grid_width, grid_width)\n",
        "xx = surface[:, 0].reshape(grid_width, grid_width)\n",
        "yy = surface[:, 1].reshape(grid_width, grid_width)\n",
        "# рисуем разделяющие поверхности классов\n",
        "plt.contourf(xx, yy, Z, alpha=0.5)\n",
        "# рисуем обучающую выборку\n",
        "plt.scatter(X[:, 0], X[:, 1], c=output.detach().numpy()>0.5)\n",
        "# задаём границы отображения графика\n",
        "plt.xlim(X_left, X_right)\n",
        "plt.ylim(X_left, X_right)"
      ]
    },
    {
      "cell_type": "markdown",
      "metadata": {
        "id": "OF4X4J8_YlLo"
      },
      "source": [
        "# Часть 3. Классификация изображений CIFAR100"
      ]
    },
    {
      "cell_type": "markdown",
      "metadata": {
        "id": "4zoT9OgeY7cZ"
      },
      "source": [
        "## Загрузка и распаковка набора данных CIFAR100"
      ]
    },
    {
      "cell_type": "code",
      "execution_count": 7,
      "metadata": {
        "colab": {
          "base_uri": "https://localhost:8080/"
        },
        "id": "QDPzQmviB8IT",
        "outputId": "a678ff2f-3fbb-47ed-dfc3-9d12988b51c5"
      },
      "outputs": [
        {
          "output_type": "stream",
          "name": "stdout",
          "text": [
            "--2023-03-09 19:46:02--  https://www.cs.toronto.edu/~kriz/cifar-100-python.tar.gz\n",
            "Resolving www.cs.toronto.edu (www.cs.toronto.edu)... 128.100.3.30\n",
            "Connecting to www.cs.toronto.edu (www.cs.toronto.edu)|128.100.3.30|:443... connected.\n",
            "HTTP request sent, awaiting response... 200 OK\n",
            "Length: 169001437 (161M) [application/x-gzip]\n",
            "Saving to: ‘cifar-100-python.tar.gz’\n",
            "\n",
            "cifar-100-python.ta 100%[===================>] 161.17M  73.0MB/s    in 2.2s    \n",
            "\n",
            "2023-03-09 19:46:05 (73.0 MB/s) - ‘cifar-100-python.tar.gz’ saved [169001437/169001437]\n",
            "\n",
            "cifar-100-python/\n",
            "cifar-100-python/file.txt~\n",
            "cifar-100-python/train\n",
            "cifar-100-python/test\n",
            "cifar-100-python/meta\n"
          ]
        }
      ],
      "source": [
        "!wget https://www.cs.toronto.edu/~kriz/cifar-100-python.tar.gz\n",
        "!tar -xvzf cifar-100-python.tar.gz"
      ]
    },
    {
      "cell_type": "markdown",
      "metadata": {
        "id": "mtz5rqMlZD2x"
      },
      "source": [
        "## Чтение тренировочной и тестовой выборки"
      ]
    },
    {
      "cell_type": "code",
      "execution_count": 8,
      "metadata": {
        "colab": {
          "base_uri": "https://localhost:8080/",
          "height": 273
        },
        "id": "49KAR3NoDbEp",
        "outputId": "4a9db9d4-ab29-49f3-c977-fd40e574857b"
      },
      "outputs": [
        {
          "output_type": "execute_result",
          "data": {
            "text/plain": [
              "<PIL.Image.Image image mode=RGB size=256x256 at 0x7FDF09291910>"
            ],
            "image/png": "[encoded data removed]"
          },
          "metadata": {},
          "execution_count": 8
        }
      ],
      "source": [
        "with open('cifar-100-python/train', 'rb') as f:\n",
        "    data_train = pickle.load(f, encoding='latin1')\n",
        "with open('cifar-100-python/test', 'rb') as f:\n",
        "    data_test = pickle.load(f, encoding='latin1')\n",
        "\n",
        "# Здесь указать ваши классы по варианту!!!\n",
        "CLASSES = [1+4, 13+17, 13+42] # 5, 30, 55\n",
        "\n",
        "train_X = data_train['data'].reshape(-1, 3, 32, 32)\n",
        "train_X = np.transpose(train_X, [0, 2, 3, 1]) # NCHW -> NHWC\n",
        "train_y = np.array(data_train['fine_labels'])\n",
        "mask = np.isin(train_y, CLASSES)\n",
        "train_X = train_X[mask].copy()\n",
        "train_y = train_y[mask].copy()\n",
        "train_y = np.unique(train_y, return_inverse=1)[1]\n",
        "del data_train\n",
        "\n",
        "test_X = data_test['data'].reshape(-1, 3, 32, 32)\n",
        "test_X = np.transpose(test_X, [0, 2, 3, 1])\n",
        "test_y = np.array(data_test['fine_labels'])\n",
        "mask = np.isin(test_y, CLASSES)\n",
        "test_X = test_X[mask].copy()\n",
        "test_y = test_y[mask].copy()\n",
        "test_y = np.unique(test_y, return_inverse=1)[1]\n",
        "del data_test\n",
        "Image.fromarray(train_X[50]).resize((256,256))"
      ]
    },
    {
      "cell_type": "markdown",
      "metadata": {
        "id": "VJHI8GhtZO8F"
      },
      "source": [
        "## Создание Pytorch DataLoader'a"
      ]
    },
    {
      "cell_type": "code",
      "execution_count": 9,
      "metadata": {
        "colab": {
          "base_uri": "https://localhost:8080/"
        },
        "id": "a77Fex1TIhGE",
        "outputId": "0f3f1a4d-bb1b-42e6-f3b1-b5e9e765eb34"
      },
      "outputs": [
        {
          "output_type": "execute_result",
          "data": {
            "text/plain": [
              "{'train': <torch.utils.data.dataloader.DataLoader at 0x7fdf092917f0>,\n",
              " 'test': <torch.utils.data.dataloader.DataLoader at 0x7fdf09291f10>}"
            ]
          },
          "metadata": {},
          "execution_count": 9
        }
      ],
      "source": [
        "batch_size = 128\n",
        "dataloader = {}\n",
        "for (X, y), part in zip([(train_X, train_y), (test_X, test_y)],\n",
        "                        ['train', 'test']):\n",
        "    tensor_x = torch.Tensor(X)\n",
        "    tensor_y = F.one_hot(torch.Tensor(y).to(torch.int64),\n",
        "                                     num_classes=len(CLASSES))/1.\n",
        "    dataset = TensorDataset(tensor_x, tensor_y) # создание объекта датасета\n",
        "    dataloader[part] = DataLoader(dataset, batch_size=batch_size, shuffle=True) # создание экземпляра класса DataLoader\n",
        "dataloader"
      ]
    },
    {
      "cell_type": "markdown",
      "metadata": {
        "id": "FxcEeFaHZV-G"
      },
      "source": [
        "## Создание Pytorch модели многослойного перцептрона с одним скрытым слоем"
      ]
    },
    {
      "cell_type": "code",
      "execution_count": 10,
      "metadata": {
        "colab": {
          "base_uri": "https://localhost:8080/"
        },
        "id": "jxfiec1w_bLr",
        "outputId": "9986939e-be06-42fb-9353-dfc570c2e62a"
      },
      "outputs": [
        {
          "output_type": "execute_result",
          "data": {
            "text/plain": [
              "Cifar100_MLP(\n",
              "  (norm): Normalize()\n",
              "  (seq): Sequential(\n",
              "    (0): Linear(in_features=3072, out_features=10, bias=True)\n",
              "    (1): ReLU()\n",
              "    (2): Linear(in_features=10, out_features=3, bias=True)\n",
              "  )\n",
              ")"
            ]
          },
          "metadata": {},
          "execution_count": 10
        }
      ],
      "source": [
        "class Normalize(nn.Module):\n",
        "    def __init__(self, mean, std):\n",
        "        super(Normalize, self).__init__()\n",
        "        self.mean = torch.tensor(mean)\n",
        "        self.std = torch.tensor(std)\n",
        "\n",
        "    def forward(self, input):\n",
        "        x = input / 255.0\n",
        "        x = x - self.mean\n",
        "        x = x / self.std\n",
        "        return torch.flatten(x, start_dim=1) # nhwc -> nm\n",
        "\n",
        "class Cifar100_MLP(nn.Module):\n",
        "    def __init__(self, hidden_size=32, classes=100):\n",
        "        super(Cifar100_MLP, self).__init__()\n",
        "        # https://blog.jovian.ai/image-classification-of-cifar100-dataset-using-pytorch-8b7145242df1\n",
        "        self.norm = Normalize([0.5074,0.4867,0.4411],[0.2011,0.1987,0.2025])\n",
        "        self.seq = nn.Sequential(\n",
        "            nn.Linear(32*32*3, hidden_size),\n",
        "            nn.ReLU(),\n",
        "            nn.Linear(hidden_size, classes),\n",
        "        )\n",
        "\n",
        "    def forward(self, input):\n",
        "        x = self.norm(input)\n",
        "        return self.seq(x)\n",
        "\n",
        "HIDDEN_SIZE = 10\n",
        "model = Cifar100_MLP(hidden_size=HIDDEN_SIZE, classes=len(CLASSES))\n",
        "model"
      ]
    },
    {
      "cell_type": "markdown",
      "metadata": {
        "id": "raKMPtc4ZgsZ"
      },
      "source": [
        "## Выбор функции потерь и оптимизатора градиентного спуска"
      ]
    },
    {
      "cell_type": "code",
      "execution_count": 11,
      "metadata": {
        "id": "-sRf5LGwHIZB"
      },
      "outputs": [],
      "source": [
        "criterion = nn.CrossEntropyLoss()\n",
        "optimizer = optim.SGD(model.parameters(), lr=0.005)"
      ]
    },
    {
      "cell_type": "markdown",
      "metadata": {
        "id": "hFtkRYFQZ0xb"
      },
      "source": [
        "## Обучение модели по эпохам"
      ]
    },
    {
      "cell_type": "code",
      "execution_count": 12,
      "metadata": {
        "colab": {
          "base_uri": "https://localhost:8080/"
        },
        "id": "j3N4gdE9KKd1",
        "outputId": "b0046859-340a-4d51-a9cd-f93e64f7b399"
      },
      "outputs": [
        {
          "output_type": "stream",
          "name": "stdout",
          "text": [
            "[1,    12] loss: 0.934\n",
            "[1,     3] val loss: 0.808\n",
            "[2,    12] loss: 0.771\n",
            "[2,     3] val loss: 0.719\n",
            "[3,    12] loss: 0.705\n",
            "[3,     3] val loss: 0.675\n",
            "[4,    12] loss: 0.664\n",
            "[4,     3] val loss: 0.670\n",
            "[5,    12] loss: 0.635\n",
            "[5,     3] val loss: 0.650\n",
            "[6,    12] loss: 0.616\n",
            "[6,     3] val loss: 0.627\n",
            "[7,    12] loss: 0.594\n",
            "[7,     3] val loss: 0.571\n",
            "[8,    12] loss: 0.580\n",
            "[8,     3] val loss: 0.605\n",
            "[9,    12] loss: 0.570\n",
            "[9,     3] val loss: 0.575\n",
            "[10,    12] loss: 0.556\n",
            "[10,     3] val loss: 0.557\n",
            "[11,    12] loss: 0.549\n",
            "[11,     3] val loss: 0.581\n",
            "[12,    12] loss: 0.541\n",
            "[12,     3] val loss: 0.573\n",
            "[13,    12] loss: 0.529\n",
            "[13,     3] val loss: 0.566\n",
            "[14,    12] loss: 0.523\n",
            "[14,     3] val loss: 0.610\n",
            "[15,    12] loss: 0.517\n",
            "[15,     3] val loss: 0.566\n",
            "[16,    12] loss: 0.510\n",
            "[16,     3] val loss: 0.563\n",
            "[17,    12] loss: 0.503\n",
            "[17,     3] val loss: 0.595\n",
            "[18,    12] loss: 0.499\n",
            "[18,     3] val loss: 0.579\n",
            "[19,    12] loss: 0.490\n",
            "[19,     3] val loss: 0.533\n",
            "[20,    12] loss: 0.490\n",
            "[20,     3] val loss: 0.588\n",
            "[21,    12] loss: 0.484\n",
            "[21,     3] val loss: 0.544\n",
            "[22,    12] loss: 0.475\n",
            "[22,     3] val loss: 0.558\n",
            "[23,    12] loss: 0.476\n",
            "[23,     3] val loss: 0.542\n",
            "[24,    12] loss: 0.468\n",
            "[24,     3] val loss: 0.528\n",
            "[25,    12] loss: 0.465\n",
            "[25,     3] val loss: 0.545\n",
            "[26,    12] loss: 0.460\n",
            "[26,     3] val loss: 0.583\n",
            "[27,    12] loss: 0.457\n",
            "[27,     3] val loss: 0.542\n",
            "[28,    12] loss: 0.454\n",
            "[28,     3] val loss: 0.519\n",
            "[29,    12] loss: 0.448\n",
            "[29,     3] val loss: 0.540\n",
            "[30,    12] loss: 0.445\n",
            "[30,     3] val loss: 0.543\n",
            "[31,    12] loss: 0.441\n",
            "[31,     3] val loss: 0.582\n",
            "[32,    12] loss: 0.439\n",
            "[32,     3] val loss: 0.541\n",
            "[33,    12] loss: 0.433\n",
            "[33,     3] val loss: 0.576\n",
            "[34,    12] loss: 0.430\n",
            "[34,     3] val loss: 0.548\n",
            "[35,    12] loss: 0.426\n",
            "[35,     3] val loss: 0.521\n",
            "[36,    12] loss: 0.425\n",
            "[36,     3] val loss: 0.551\n",
            "[37,    12] loss: 0.420\n",
            "[37,     3] val loss: 0.542\n",
            "[38,    12] loss: 0.416\n",
            "[38,     3] val loss: 0.513\n",
            "[39,    12] loss: 0.415\n",
            "[39,     3] val loss: 0.536\n",
            "[40,    12] loss: 0.410\n",
            "[40,     3] val loss: 0.533\n",
            "[41,    12] loss: 0.407\n",
            "[41,     3] val loss: 0.510\n",
            "[42,    12] loss: 0.407\n",
            "[42,     3] val loss: 0.543\n",
            "[43,    12] loss: 0.399\n",
            "[43,     3] val loss: 0.541\n",
            "[44,    12] loss: 0.398\n",
            "[44,     3] val loss: 0.576\n",
            "[45,    12] loss: 0.396\n",
            "[45,     3] val loss: 0.509\n",
            "[46,    12] loss: 0.392\n",
            "[46,     3] val loss: 0.564\n",
            "[47,    12] loss: 0.392\n",
            "[47,     3] val loss: 0.505\n",
            "[48,    12] loss: 0.389\n",
            "[48,     3] val loss: 0.561\n",
            "[49,    12] loss: 0.383\n",
            "[49,     3] val loss: 0.560\n",
            "[50,    12] loss: 0.380\n",
            "[50,     3] val loss: 0.546\n",
            "[51,    12] loss: 0.381\n",
            "[51,     3] val loss: 0.569\n",
            "[52,    12] loss: 0.378\n",
            "[52,     3] val loss: 0.532\n",
            "[53,    12] loss: 0.377\n",
            "[53,     3] val loss: 0.578\n",
            "[54,    12] loss: 0.372\n",
            "[54,     3] val loss: 0.564\n",
            "[55,    12] loss: 0.369\n",
            "[55,     3] val loss: 0.569\n",
            "[56,    12] loss: 0.367\n",
            "[56,     3] val loss: 0.512\n",
            "[57,    12] loss: 0.365\n",
            "[57,     3] val loss: 0.596\n",
            "[58,    12] loss: 0.364\n",
            "[58,     3] val loss: 0.533\n",
            "[59,    12] loss: 0.363\n",
            "[59,     3] val loss: 0.588\n",
            "[60,    12] loss: 0.361\n",
            "[60,     3] val loss: 0.558\n",
            "[61,    12] loss: 0.356\n",
            "[61,     3] val loss: 0.568\n",
            "[62,    12] loss: 0.358\n",
            "[62,     3] val loss: 0.573\n",
            "[63,    12] loss: 0.354\n",
            "[63,     3] val loss: 0.561\n",
            "[64,    12] loss: 0.350\n",
            "[64,     3] val loss: 0.561\n",
            "[65,    12] loss: 0.349\n",
            "[65,     3] val loss: 0.592\n",
            "[66,    12] loss: 0.347\n",
            "[66,     3] val loss: 0.534\n",
            "[67,    12] loss: 0.342\n",
            "[67,     3] val loss: 0.565\n",
            "[68,    12] loss: 0.341\n",
            "[68,     3] val loss: 0.574\n",
            "[69,    12] loss: 0.341\n",
            "[69,     3] val loss: 0.542\n",
            "[70,    12] loss: 0.336\n",
            "[70,     3] val loss: 0.546\n",
            "[71,    12] loss: 0.336\n",
            "[71,     3] val loss: 0.581\n",
            "[72,    12] loss: 0.335\n",
            "[72,     3] val loss: 0.567\n",
            "[73,    12] loss: 0.330\n",
            "[73,     3] val loss: 0.590\n",
            "[74,    12] loss: 0.329\n",
            "[74,     3] val loss: 0.588\n",
            "[75,    12] loss: 0.328\n",
            "[75,     3] val loss: 0.573\n",
            "[76,    12] loss: 0.325\n",
            "[76,     3] val loss: 0.592\n",
            "[77,    12] loss: 0.323\n",
            "[77,     3] val loss: 0.581\n",
            "[78,    12] loss: 0.322\n",
            "[78,     3] val loss: 0.558\n",
            "[79,    12] loss: 0.316\n",
            "[79,     3] val loss: 0.526\n",
            "[80,    12] loss: 0.320\n",
            "[80,     3] val loss: 0.610\n",
            "[81,    12] loss: 0.317\n",
            "[81,     3] val loss: 0.653\n",
            "[82,    12] loss: 0.315\n",
            "[82,     3] val loss: 0.612\n",
            "[83,    12] loss: 0.313\n",
            "[83,     3] val loss: 0.560\n",
            "[84,    12] loss: 0.309\n",
            "[84,     3] val loss: 0.580\n",
            "[85,    12] loss: 0.306\n",
            "[85,     3] val loss: 0.564\n",
            "[86,    12] loss: 0.306\n",
            "[86,     3] val loss: 0.533\n",
            "[87,    12] loss: 0.305\n",
            "[87,     3] val loss: 0.564\n",
            "[88,    12] loss: 0.301\n",
            "[88,     3] val loss: 0.578\n",
            "[89,    12] loss: 0.300\n",
            "[89,     3] val loss: 0.573\n",
            "[90,    12] loss: 0.297\n",
            "[90,     3] val loss: 0.617\n",
            "[91,    12] loss: 0.299\n",
            "[91,     3] val loss: 0.537\n",
            "[92,    12] loss: 0.294\n",
            "[92,     3] val loss: 0.643\n",
            "[93,    12] loss: 0.291\n",
            "[93,     3] val loss: 0.610\n",
            "[94,    12] loss: 0.293\n",
            "[94,     3] val loss: 0.566\n",
            "[95,    12] loss: 0.291\n",
            "[95,     3] val loss: 0.622\n",
            "[96,    12] loss: 0.288\n",
            "[96,     3] val loss: 0.532\n",
            "[97,    12] loss: 0.286\n",
            "[97,     3] val loss: 0.612\n",
            "[98,    12] loss: 0.282\n",
            "[98,     3] val loss: 0.613\n",
            "[99,    12] loss: 0.285\n",
            "[99,     3] val loss: 0.557\n",
            "[100,    12] loss: 0.283\n",
            "[100,     3] val loss: 0.613\n",
            "[101,    12] loss: 0.279\n",
            "[101,     3] val loss: 0.588\n",
            "[102,    12] loss: 0.278\n",
            "[102,     3] val loss: 0.598\n",
            "[103,    12] loss: 0.277\n",
            "[103,     3] val loss: 0.661\n",
            "[104,    12] loss: 0.276\n",
            "[104,     3] val loss: 0.558\n",
            "[105,    12] loss: 0.272\n",
            "[105,     3] val loss: 0.540\n",
            "[106,    12] loss: 0.271\n",
            "[106,     3] val loss: 0.609\n",
            "[107,    12] loss: 0.267\n",
            "[107,     3] val loss: 0.664\n",
            "[108,    12] loss: 0.267\n",
            "[108,     3] val loss: 0.618\n",
            "[109,    12] loss: 0.269\n",
            "[109,     3] val loss: 0.631\n",
            "[110,    12] loss: 0.264\n",
            "[110,     3] val loss: 0.579\n",
            "[111,    12] loss: 0.261\n",
            "[111,     3] val loss: 0.615\n",
            "[112,    12] loss: 0.261\n",
            "[112,     3] val loss: 0.646\n",
            "[113,    12] loss: 0.260\n",
            "[113,     3] val loss: 0.604\n",
            "[114,    12] loss: 0.258\n",
            "[114,     3] val loss: 0.585\n",
            "[115,    12] loss: 0.256\n",
            "[115,     3] val loss: 0.640\n",
            "[116,    12] loss: 0.258\n",
            "[116,     3] val loss: 0.574\n",
            "[117,    12] loss: 0.254\n",
            "[117,     3] val loss: 0.607\n",
            "[118,    12] loss: 0.255\n",
            "[118,     3] val loss: 0.618\n",
            "[119,    12] loss: 0.250\n",
            "[119,     3] val loss: 0.563\n",
            "[120,    12] loss: 0.247\n",
            "[120,     3] val loss: 0.606\n",
            "[121,    12] loss: 0.246\n",
            "[121,     3] val loss: 0.597\n",
            "[122,    12] loss: 0.246\n",
            "[122,     3] val loss: 0.688\n",
            "[123,    12] loss: 0.244\n",
            "[123,     3] val loss: 0.562\n",
            "[124,    12] loss: 0.243\n",
            "[124,     3] val loss: 0.638\n",
            "[125,    12] loss: 0.241\n",
            "[125,     3] val loss: 0.682\n",
            "[126,    12] loss: 0.241\n",
            "[126,     3] val loss: 0.672\n",
            "[127,    12] loss: 0.240\n",
            "[127,     3] val loss: 0.610\n",
            "[128,    12] loss: 0.239\n",
            "[128,     3] val loss: 0.584\n",
            "[129,    12] loss: 0.235\n",
            "[129,     3] val loss: 0.665\n",
            "[130,    12] loss: 0.236\n",
            "[130,     3] val loss: 0.631\n",
            "[131,    12] loss: 0.234\n",
            "[131,     3] val loss: 0.674\n",
            "[132,    12] loss: 0.230\n",
            "[132,     3] val loss: 0.632\n",
            "[133,    12] loss: 0.230\n",
            "[133,     3] val loss: 0.661\n",
            "[134,    12] loss: 0.229\n",
            "[134,     3] val loss: 0.608\n",
            "[135,    12] loss: 0.226\n",
            "[135,     3] val loss: 0.614\n",
            "[136,    12] loss: 0.226\n",
            "[136,     3] val loss: 0.570\n",
            "[137,    12] loss: 0.224\n",
            "[137,     3] val loss: 0.635\n",
            "[138,    12] loss: 0.222\n",
            "[138,     3] val loss: 0.595\n",
            "[139,    12] loss: 0.222\n",
            "[139,     3] val loss: 0.708\n",
            "[140,    12] loss: 0.222\n",
            "[140,     3] val loss: 0.626\n",
            "[141,    12] loss: 0.218\n",
            "[141,     3] val loss: 0.660\n",
            "[142,    12] loss: 0.219\n",
            "[142,     3] val loss: 0.683\n",
            "[143,    12] loss: 0.215\n",
            "[143,     3] val loss: 0.640\n",
            "[144,    12] loss: 0.215\n",
            "[144,     3] val loss: 0.611\n",
            "[145,    12] loss: 0.215\n",
            "[145,     3] val loss: 0.689\n",
            "[146,    12] loss: 0.211\n",
            "[146,     3] val loss: 0.685\n",
            "[147,    12] loss: 0.212\n",
            "[147,     3] val loss: 0.635\n",
            "[148,    12] loss: 0.209\n",
            "[148,     3] val loss: 0.663\n",
            "[149,    12] loss: 0.207\n",
            "[149,     3] val loss: 0.693\n",
            "[150,    12] loss: 0.206\n",
            "[150,     3] val loss: 0.750\n",
            "[151,    12] loss: 0.207\n",
            "[151,     3] val loss: 0.630\n",
            "[152,    12] loss: 0.204\n",
            "[152,     3] val loss: 0.705\n",
            "[153,    12] loss: 0.203\n",
            "[153,     3] val loss: 0.682\n",
            "[154,    12] loss: 0.203\n",
            "[154,     3] val loss: 0.661\n",
            "[155,    12] loss: 0.201\n",
            "[155,     3] val loss: 0.666\n",
            "[156,    12] loss: 0.200\n",
            "[156,     3] val loss: 0.695\n",
            "[157,    12] loss: 0.199\n",
            "[157,     3] val loss: 0.632\n",
            "[158,    12] loss: 0.196\n",
            "[158,     3] val loss: 0.651\n",
            "[159,    12] loss: 0.198\n",
            "[159,     3] val loss: 0.614\n",
            "[160,    12] loss: 0.196\n",
            "[160,     3] val loss: 0.683\n",
            "[161,    12] loss: 0.194\n",
            "[161,     3] val loss: 0.716\n",
            "[162,    12] loss: 0.193\n",
            "[162,     3] val loss: 0.687\n",
            "[163,    12] loss: 0.192\n",
            "[163,     3] val loss: 0.661\n",
            "[164,    12] loss: 0.188\n",
            "[164,     3] val loss: 0.701\n",
            "[165,    12] loss: 0.188\n",
            "[165,     3] val loss: 0.701\n",
            "[166,    12] loss: 0.191\n",
            "[166,     3] val loss: 0.635\n",
            "[167,    12] loss: 0.186\n",
            "[167,     3] val loss: 0.669\n",
            "[168,    12] loss: 0.185\n",
            "[168,     3] val loss: 0.696\n",
            "[169,    12] loss: 0.186\n",
            "[169,     3] val loss: 0.781\n",
            "[170,    12] loss: 0.182\n",
            "[170,     3] val loss: 0.724\n",
            "[171,    12] loss: 0.182\n",
            "[171,     3] val loss: 0.732\n",
            "[172,    12] loss: 0.183\n",
            "[172,     3] val loss: 0.675\n",
            "[173,    12] loss: 0.181\n",
            "[173,     3] val loss: 0.695\n",
            "[174,    12] loss: 0.180\n",
            "[174,     3] val loss: 0.675\n",
            "[175,    12] loss: 0.178\n",
            "[175,     3] val loss: 0.671\n",
            "[176,    12] loss: 0.178\n",
            "[176,     3] val loss: 0.640\n",
            "[177,    12] loss: 0.176\n",
            "[177,     3] val loss: 0.748\n",
            "[178,    12] loss: 0.175\n",
            "[178,     3] val loss: 0.707\n",
            "[179,    12] loss: 0.174\n",
            "[179,     3] val loss: 0.662\n",
            "[180,    12] loss: 0.172\n",
            "[180,     3] val loss: 0.728\n",
            "[181,    12] loss: 0.172\n",
            "[181,     3] val loss: 0.700\n",
            "[182,    12] loss: 0.170\n",
            "[182,     3] val loss: 0.668\n",
            "[183,    12] loss: 0.168\n",
            "[183,     3] val loss: 0.746\n",
            "[184,    12] loss: 0.167\n",
            "[184,     3] val loss: 0.779\n",
            "[185,    12] loss: 0.167\n",
            "[185,     3] val loss: 0.643\n",
            "[186,    12] loss: 0.166\n",
            "[186,     3] val loss: 0.685\n",
            "[187,    12] loss: 0.165\n",
            "[187,     3] val loss: 0.798\n",
            "[188,    12] loss: 0.166\n",
            "[188,     3] val loss: 0.755\n",
            "[189,    12] loss: 0.164\n",
            "[189,     3] val loss: 0.702\n",
            "[190,    12] loss: 0.164\n",
            "[190,     3] val loss: 0.713\n",
            "[191,    12] loss: 0.160\n",
            "[191,     3] val loss: 0.710\n",
            "[192,    12] loss: 0.160\n",
            "[192,     3] val loss: 0.720\n",
            "[193,    12] loss: 0.160\n",
            "[193,     3] val loss: 0.708\n",
            "[194,    12] loss: 0.158\n",
            "[194,     3] val loss: 0.702\n",
            "[195,    12] loss: 0.156\n",
            "[195,     3] val loss: 0.692\n",
            "[196,    12] loss: 0.157\n",
            "[196,     3] val loss: 0.698\n",
            "[197,    12] loss: 0.157\n",
            "[197,     3] val loss: 0.774\n",
            "[198,    12] loss: 0.155\n",
            "[198,     3] val loss: 0.681\n",
            "[199,    12] loss: 0.152\n",
            "[199,     3] val loss: 0.780\n",
            "[200,    12] loss: 0.153\n",
            "[200,     3] val loss: 0.690\n",
            "[201,    12] loss: 0.151\n",
            "[201,     3] val loss: 0.681\n",
            "[202,    12] loss: 0.149\n",
            "[202,     3] val loss: 0.787\n",
            "[203,    12] loss: 0.151\n",
            "[203,     3] val loss: 0.876\n",
            "[204,    12] loss: 0.150\n",
            "[204,     3] val loss: 0.751\n",
            "[205,    12] loss: 0.148\n",
            "[205,     3] val loss: 0.730\n",
            "[206,    12] loss: 0.149\n",
            "[206,     3] val loss: 0.794\n",
            "[207,    12] loss: 0.149\n",
            "[207,     3] val loss: 0.729\n",
            "[208,    12] loss: 0.148\n",
            "[208,     3] val loss: 0.726\n",
            "[209,    12] loss: 0.146\n",
            "[209,     3] val loss: 0.699\n",
            "[210,    12] loss: 0.144\n",
            "[210,     3] val loss: 0.739\n",
            "[211,    12] loss: 0.146\n",
            "[211,     3] val loss: 0.728\n",
            "[212,    12] loss: 0.143\n",
            "[212,     3] val loss: 0.746\n",
            "[213,    12] loss: 0.141\n",
            "[213,     3] val loss: 0.939\n",
            "[214,    12] loss: 0.141\n",
            "[214,     3] val loss: 0.735\n",
            "[215,    12] loss: 0.142\n",
            "[215,     3] val loss: 0.712\n",
            "[216,    12] loss: 0.139\n",
            "[216,     3] val loss: 0.772\n",
            "[217,    12] loss: 0.139\n",
            "[217,     3] val loss: 0.719\n",
            "[218,    12] loss: 0.138\n",
            "[218,     3] val loss: 0.784\n",
            "[219,    12] loss: 0.138\n",
            "[219,     3] val loss: 0.800\n",
            "[220,    12] loss: 0.137\n",
            "[220,     3] val loss: 0.735\n",
            "[221,    12] loss: 0.135\n",
            "[221,     3] val loss: 0.718\n",
            "[222,    12] loss: 0.135\n",
            "[222,     3] val loss: 0.731\n",
            "[223,    12] loss: 0.134\n",
            "[223,     3] val loss: 0.851\n",
            "[224,    12] loss: 0.134\n",
            "[224,     3] val loss: 0.798\n",
            "[225,    12] loss: 0.133\n",
            "[225,     3] val loss: 0.736\n",
            "[226,    12] loss: 0.132\n",
            "[226,     3] val loss: 0.752\n",
            "[227,    12] loss: 0.130\n",
            "[227,     3] val loss: 0.713\n",
            "[228,    12] loss: 0.130\n",
            "[228,     3] val loss: 0.789\n",
            "[229,    12] loss: 0.129\n",
            "[229,     3] val loss: 0.733\n",
            "[230,    12] loss: 0.130\n",
            "[230,     3] val loss: 0.759\n",
            "[231,    12] loss: 0.127\n",
            "[231,     3] val loss: 0.703\n",
            "[232,    12] loss: 0.127\n",
            "[232,     3] val loss: 0.756\n",
            "[233,    12] loss: 0.127\n",
            "[233,     3] val loss: 0.816\n",
            "[234,    12] loss: 0.126\n",
            "[234,     3] val loss: 0.765\n",
            "[235,    12] loss: 0.125\n",
            "[235,     3] val loss: 0.779\n",
            "[236,    12] loss: 0.124\n",
            "[236,     3] val loss: 0.777\n",
            "[237,    12] loss: 0.124\n",
            "[237,     3] val loss: 0.802\n",
            "[238,    12] loss: 0.123\n",
            "[238,     3] val loss: 0.836\n",
            "[239,    12] loss: 0.123\n",
            "[239,     3] val loss: 0.908\n",
            "[240,    12] loss: 0.123\n",
            "[240,     3] val loss: 0.738\n",
            "[241,    12] loss: 0.122\n",
            "[241,     3] val loss: 0.728\n",
            "[242,    12] loss: 0.119\n",
            "[242,     3] val loss: 0.816\n",
            "[243,    12] loss: 0.119\n",
            "[243,     3] val loss: 0.851\n",
            "[244,    12] loss: 0.120\n",
            "[244,     3] val loss: 0.771\n",
            "[245,    12] loss: 0.118\n",
            "[245,     3] val loss: 0.734\n",
            "[246,    12] loss: 0.117\n",
            "[246,     3] val loss: 0.769\n",
            "[247,    12] loss: 0.118\n",
            "[247,     3] val loss: 0.758\n",
            "[248,    12] loss: 0.116\n",
            "[248,     3] val loss: 0.710\n",
            "[249,    12] loss: 0.115\n",
            "[249,     3] val loss: 0.755\n",
            "[250,    12] loss: 0.115\n",
            "[250,     3] val loss: 0.851\n",
            "Обучение закончено\n"
          ]
        }
      ],
      "source": [
        "EPOCHS = 250\n",
        "steps_per_epoch = len(dataloader['train'])\n",
        "steps_per_epoch_val = len(dataloader['test'])\n",
        "for epoch in range(EPOCHS):  # проход по набору данных несколько раз\n",
        "    running_loss = 0.0\n",
        "    model.train()\n",
        "    for i, batch in enumerate(dataloader['train'], 0):\n",
        "        # получение одного минибатча; batch это двуэлементный список из [inputs, labels]\n",
        "        inputs, labels = batch\n",
        "\n",
        "        # очищение прошлых градиентов с прошлой итерации\n",
        "        optimizer.zero_grad()\n",
        "\n",
        "        # прямой + обратный проходы + оптимизация\n",
        "        outputs = model(inputs)\n",
        "        loss = criterion(outputs, labels)\n",
        "        #loss = F.cross_entropy(outputs, labels)\n",
        "        loss.backward()\n",
        "        optimizer.step()\n",
        "\n",
        "        # для подсчёта статистик\n",
        "        running_loss += loss.item()\n",
        "    print(f'[{epoch + 1}, {i + 1:5d}] loss: {running_loss / steps_per_epoch:.3f}')\n",
        "    running_loss = 0.0\n",
        "    model.eval()\n",
        "    with torch.no_grad(): # отключение автоматического дифференцирования\n",
        "        for i, data in enumerate(dataloader['test'], 0):\n",
        "            inputs, labels = data\n",
        "\n",
        "            outputs = model(inputs)\n",
        "            loss = criterion(outputs, labels)\n",
        "            running_loss += loss.item()\n",
        "    print(f'[{epoch + 1}, {i + 1:5d}] val loss: {running_loss / steps_per_epoch_val:.3f}')\n",
        "print('Обучение закончено')"
      ]
    },
    {
      "cell_type": "markdown",
      "metadata": {
        "id": "pM3jjyu2Z6cf"
      },
      "source": [
        "## Проверка качества модели по классам на обучающей и тестовой выборках"
      ]
    },
    {
      "cell_type": "code",
      "execution_count": 13,
      "metadata": {
        "colab": {
          "base_uri": "https://localhost:8080/"
        },
        "id": "5RlNWKIRM8Hj",
        "outputId": "7dc06308-990f-47c6-c356-e457c3df2130"
      },
      "outputs": [
        {
          "output_type": "stream",
          "name": "stdout",
          "text": [
            "train\n",
            "              precision    recall  f1-score   support\n",
            "\n",
            "           5     0.9764    0.9920    0.9841       500\n",
            "          30     0.9762    0.9840    0.9801       500\n",
            "          55     0.9795    0.9560    0.9676       500\n",
            "\n",
            "    accuracy                         0.9773      1500\n",
            "   macro avg     0.9774    0.9773    0.9773      1500\n",
            "weighted avg     0.9774    0.9773    0.9773      1500\n",
            "\n",
            "--------------------------------------------------\n",
            "test\n",
            "              precision    recall  f1-score   support\n",
            "\n",
            "           5     0.6975    0.8300    0.7580       100\n",
            "          30     0.8191    0.7700    0.7938       100\n",
            "          55     0.6782    0.5900    0.6310       100\n",
            "\n",
            "    accuracy                         0.7300       300\n",
            "   macro avg     0.7316    0.7300    0.7276       300\n",
            "weighted avg     0.7316    0.7300    0.7276       300\n",
            "\n",
            "--------------------------------------------------\n"
          ]
        }
      ],
      "source": [
        "for part in ['train', 'test']:\n",
        "    y_pred = []\n",
        "    y_true = []\n",
        "    with torch.no_grad(): # отключение автоматического дифференцирования\n",
        "        for i, data in enumerate(dataloader[part], 0):\n",
        "            inputs, labels = data\n",
        "\n",
        "            outputs = model(inputs).detach().numpy()\n",
        "            y_pred.append(outputs)\n",
        "            y_true.append(labels.numpy())\n",
        "        y_true = np.concatenate(y_true)\n",
        "        y_pred = np.concatenate(y_pred)\n",
        "        print(part)\n",
        "        print(classification_report(y_true.argmax(axis=-1), y_pred.argmax(axis=-1),\n",
        "                                    digits=4, target_names=list(map(str, CLASSES))))\n",
        "        print('-'*50)"
      ]
    },
    {
      "cell_type": "markdown",
      "source": [
        "## Визуализация весов"
      ],
      "metadata": {
        "id": "rwf4xLEjnJ95"
      }
    },
    {
      "cell_type": "code",
      "source": [
        "weights = list(model.parameters())[0].detach().numpy()\n",
        "print(weights.shape)\n",
        "fig, ax = plt.subplots(1, weights.shape[0], figsize=(3*weights.shape[0], 3))\n",
        "for i, ω in enumerate(weights):\n",
        "    ω = ω.reshape(32, 32, 3)\n",
        "    ω -= np.percentile(ω, 1, axis=[0, 1])\n",
        "    ω /= np.percentile(ω, 99, axis=[0, 1])\n",
        "    ω = np.clip(ω, 0, 1) \n",
        "    ax[i].imshow(ω)"
      ],
      "metadata": {
        "id": "yRxbB8D7nYaM",
        "colab": {
          "base_uri": "https://localhost:8080/",
          "height": 139
        },
        "outputId": "e879e3fb-d673-4645-b6ad-444d5bc22972"
      },
      "execution_count": 14,
      "outputs": [
        {
          "output_type": "stream",
          "name": "stdout",
          "text": [
            "(10, 3072)\n"
          ]
        },
        {
          "output_type": "display_data",
          "data": {
            "text/plain": [
              "<Figure size 2160x216 with 10 Axes>"
            ],
            "image/png": "[encoded data removed]"
          },
          "metadata": {
            "needs_background": "light"
          }
        }
      ]
    },
    {
      "cell_type": "markdown",
      "source": [
        "## Сохранение модели"
      ],
      "metadata": {
        "id": "m_J6Fxwf6tvK"
      }
    },
    {
      "cell_type": "code",
      "source": [
        "# сохраниение модели\n",
        "# ПЕРВЫЙ СПОСОБ: сохранение параметров\n",
        "PATH = 'cifar_cnn.pth'\n",
        "torch.save(model.state_dict(), PATH)\n",
        "# загрузка\n",
        "new_model = Cifar100_MLP(hidden_size=HIDDEN_SIZE, classes=len(CLASSES))\n",
        "new_model.load_state_dict(torch.load(PATH))\n",
        "new_model.eval()\n",
        "\n",
        "# ВТОРОЙ СПОСОБ: сохранение всей архитектуры\n",
        "PATH2 = 'cifar_cnn.pt'\n",
        "torch.save(model, PATH2)\n",
        "# загрузка\n",
        "new_model_2 = torch.load(PATH2)\n",
        "new_model_2.eval()"
      ],
      "metadata": {
        "id": "npvBE5vj6vi7",
        "outputId": "8d56fba3-0f8a-4dc1-d603-dc4d0a040fe6",
        "colab": {
          "base_uri": "https://localhost:8080/"
        }
      },
      "execution_count": 15,
      "outputs": [
        {
          "output_type": "execute_result",
          "data": {
            "text/plain": [
              "Cifar100_MLP(\n",
              "  (norm): Normalize()\n",
              "  (seq): Sequential(\n",
              "    (0): Linear(in_features=3072, out_features=10, bias=True)\n",
              "    (1): ReLU()\n",
              "    (2): Linear(in_features=10, out_features=3, bias=True)\n",
              "  )\n",
              ")"
            ]
          },
          "metadata": {},
          "execution_count": 15
        }
      ]
    },
    {
      "cell_type": "code",
      "source": [
        "# входной тензор для модели\n",
        "x = torch.randn(1, 32, 32, 3, requires_grad=True)\n",
        "torch_out = model(x)\n",
        "\n",
        "# экспорт модели\n",
        "torch.onnx.export(model,               # модель\n",
        "                  x,                   # входной тензор (или кортеж нескольких тензоров)\n",
        "                  \"cifar100_CNN.onnx\", # куда сохранить (либо путь к файлу либо fileObject)\n",
        "                  export_params=True,  # сохраняет веса обученных параметров внутри файла модели\n",
        "                  opset_version=9,     # версия ONNX\n",
        "                  do_constant_folding=True,  # следует ли выполнять укорачивание констант для оптимизации\n",
        "                  input_names = ['input'],   # имя входного слоя\n",
        "                  output_names = ['output'],  # имя выходного слоя\n",
        "                  dynamic_axes={'input' : {0 : 'batch_size'},    # динамичные оси, в данном случае только размер пакета\n",
        "                                'output' : {0 : 'batch_size'}})"
      ],
      "metadata": {
        "id": "_SF8Um938RhK"
      },
      "execution_count": 17,
      "outputs": []
    },
    {
      "cell_type": "markdown",
      "source": [
        "# Описание методов библиотек"
      ],
      "metadata": {
        "id": "HFzEnQacoQwb"
      }
    },
    {
      "cell_type": "markdown",
      "metadata": {
        "id": "Mv5qVoyxfoPZ"
      },
      "source": [
        "### Методы и функции NumPy:\n",
        "\n",
        "(Подробнее в документации https://numpy.org/doc/1.22/reference/index.html)"
      ]
    },
    {
      "cell_type": "markdown",
      "metadata": {
        "id": "9aWaJ2_EfoPZ"
      },
      "source": [
        "* __np.array__ - создание массива из списка или другого массива\n",
        "* __np.shape__ - выводит размерность многомерного массива (т.е. для массива 2х2 будет выведен кортеж (2, 2))\n",
        "* __np.size__ - выводит число элементов в массиве (т.е. для массива 2х2 будет выведено число 4)\n",
        "* __np.uint8__, __np.int16__, __np.int64__, __np.float32__ - приведение массива к новому типу, при этом в памяти выделяется место под новый массив выбранного типа. Число после типа обозначет, сколько бит данных используется для хранения одного элемента массива. Для хранения картинок зачастую используется экономный uint8 - беззнаковый 8-битный целочисленный тип данных (диапазон чисел 0-255)\n",
        "* __np.ones__, __np.zeros__  - создание уже заполненных массивов либо единицами, либо нулями. В качестве аргумента передается список или кортеж с требуемой размерностью. Например `np.ones((10,))` создаст вектор из 10 единичек. А `np.zeros((32, 32, 3))` создаст двузмерный массив разрешением 32 на 32 пикселя с 3 каналами. На практике используется для проверки архитектуры модели в прямом направлении\n",
        "* __np.arange__ - создание уже заполненного массива в виде возрастающей арифметической прогресии от первого аргумента до второго аргумента не включительно с шагом, который задаётеся третьим аргументом. Первый и третий аргументы можно опускать, в таком случае получается компактная запись `np.arange(3)` => [0, 1, 2]\n",
        "* __np.repeat__ - дублирование элементов массива на количество, указанное первым аргументом. Таким образом, для массива `arr = [0, 1]` `arr.repeat(2)` вернёт [0, 0, 1, 1]\n",
        "* __np.exp__ - применение поэлементной операции потенциирования к массиву\n",
        "* __np.random.normal__ - генерация массива, заполненного случайными нормальными величинами со стандартным отклонением, задающимся через аргумент scale и со средним значением, равным аргументу mean. Число элементов в массиве задаётся числом или списком, переданным аргументу size.\n",
        "* __np.random.randint__ - генерация массива, заполненного случайными целыми числами в диапазоне, задающимся аналогично __np.arange__. Число элементов в массиве задаётся числом или списком, переданным аргументу size.\n",
        "* __np.reshape__  - буквально изменение размерности многомерного массива с учётом числа элементов. В качестве аргумента передается многомерный массив, а также список или кортеж с новой размерностью. Например `np.reshape([0, 1, 2, 3], (2,2))` создаст двухмерный массив размером 2х2. При этом в памяти новый массив не выделяется, а меняется лишь способ обхода по нему. Разрешается также и следующий способ вызова метода: `arr.reshape(2, 2)`. Обратите внимание на отсутствие дополнительных скобок. Если вместо конкретного числа подставить -1, то размерность будет подсчитана автоматически. На практике используется для выпрямление картинок в виде одномерного массива: `X.reshape(-1, 3072)`# [100, 32, 32, 3] -> [100, 3072]\n",
        "* __np.transpose__  - переименование осей многомерного массива. Для работы с изображениями принято два формата NHWC и NCHW (N - число картинок в массиве, C - число каналов, H - высота, W - ширина). В качестве аргумента передается многомерный массив, а также список или кортеж с новой расстановкой осей. Например `np.transpose([[0, 1, 2, 3]], (1,0))` создаст двухмерный вектор-столбец [[[0], [1], [2], [3]]. Заметьте, что отсчет осей начинается с 0. На практике используется для перевода NHWC в NCHW и обратно. В первом случае 0 ось N остаётся на своём первом месте, первая и вторая оси H и W сдвигаются на одну позицию вправо, а 3 ось - C ставится на второе место. Т.е. получим следующую перестановку: [0, 3, 1, 2] \n",
        "* __np.isin__ - аналог SQL оператора IN, поэлементная проверка вхождения массива в коллекцию. `np.isin([0, 2, 1], [2, 3])` вернёт [False, True, False]\n",
        "* __индексирование__ - выбор подмассива или среза массива осуществляется с помощью квадратных скобок []. Если `arr = np.array([2, 1, 0])`, то `arr[0]` вернёт первый элемент. `arr[[0, 1]]` - обращение по индексу, `arr[[True, False, True]]` - обращение по булевой маске. Заметьте, что обращение по индексу необязательно должно совпадать с размерностью массива, в отличие от обращения по маске. На практике удобно записывать значения маски в отдельную переменную. Для выбора конкретного столбца в многомерном массиве используется синтаксис срезов [:, k], где k - номер столбца. Если k равняется -1, то используется последний столбец или элемент. Так, например, для массива `arr = np.array([[0, 1], [2, 3], [4, 5])` выражение `arr[:, 0]` вернет массив [0, 2, 4]. Поскольку используется индекс срезов (стандартный синтаксис Python), то можно также выполнять срезы многомерных массивов. Для предыдущего примера `arr[1:2, 0:1]` вернёт [[2]]\n",
        "* __np.unique__ - аналог SELECT DISTINCT в SQL. При стандартных параметрах возвращает одномерный подмассив, содержащий уникальные элементы. Если указать выставить флаг __return_inverse__, то вернется массив с номерами отсчётов массива с уникальными элементами. По сути выполняется Label Encoding\n",
        "* __np.concatenate__ - конкатенация многомерного массива вдоль указанной оси. Номер оси указывается через аргумент __axis__. Например может быть использован для объединения нескольких признаков или нескольких наборов данных. В контексте изображений может использоваться для объединения или склейки нескольких изображений в одно как вертикально, так и горизонтально. В контексте звука - склеивание двух аудиодорожек.\n",
        "* __np.max__, __np.min__ - возвращает максимальный и минимальный элементы массива вдоль указанной оси, соответственно. Если номер оси не указан, то возвращается число. Номер оси указывается через аргумент __axis__. Если указывается -1, то полагается, что используется последний номер оси. Разрешается также и вызов функции в качестве метода многомерного массива: `arr.max()`\n",
        "* __np.argmax__ - возвращает индекс максимального элемента массива вдоль указанной оси. Если номер оси не указан, то возвращается первый индекс, соответвующих максимальному значению в массиве, т.е. одно число. Номер оси указывается через аргумент __axis__. Если указывается -1, то полагается, что используется последний номер оси. На практике используется для расчёта метрики доли правильных ответов модели (Accuracy). Разрешается также и вызов функции в качестве метода многомерного массива: `arr.argmax(axis=-1)`"
      ]
    },
    {
      "cell_type": "markdown",
      "metadata": {
        "id": "pL2CwPP4foPa"
      },
      "source": [
        "### Методы и функции Pickle\n",
        "(Документация: https://docs.python.org/3/library/pickle.html)"
      ]
    },
    {
      "cell_type": "markdown",
      "metadata": {
        "id": "OCx3YmHafoPa"
      },
      "source": [
        "* __pickle.dump__ - сериализация структуры данных Python. Первым аргументом идёт сама структура, а вторым FileObject. При этом FileObject должен быть открыт в режиме записи байт (wb). Можно указать кодировку байт (big endian/ little endian). Тем самым можно хранить на постоянном носителе стандартные структуры данных, в том числе NumPy массивы.\n",
        "* __pickle.load__ - десериализация структуры данных Python. Первым аргументом идёт FileObject. При этом FileObject должен быть открыт в режиме чтения байт (rb). Можно указать кодировку байт (big endian/ little endian). Тем самым можно загружать ранее сохранённые структуры данных, что может быть полезно, если для их создания требуется длительное время (например, параметры модели глубокого обучения)\n"
      ]
    },
    {
      "cell_type": "markdown",
      "metadata": {
        "id": "QC12OZoxfoPa"
      },
      "source": [
        "### Методы и функции Sklearn\n",
        "(Документация: https://scikit-learn.org/stable/modules/classes.html)"
      ]
    },
    {
      "cell_type": "markdown",
      "metadata": {
        "id": "xIvGpvkYfoPb"
      },
      "source": [
        "* __datasets.make_circles__, __datasets.make_moons__ - генерация синтетической обучающей выборки для задачи классификации, возвращает X - двухмерный массив с числом примеров и числом признаков (признаков 2), а также одномерный массив с метками классов (0 или 1)\n",
        "\n",
        "* __metrics.classification_report__ - cоздает текстовый отчет, показывающий основные метрики классификации (доля правильных ответов, полнота, точность, f1-мера). В качестве первого аргумента передаются истинные метки класса, в качестве второго - метки класса, предсказанные моделью. Дополнительные полезные аргументы: digits - число выводимых знаков после запятой (по умолчанию 2), output_dict - возвращает словарь с расчитанными метриками вместо строки, sample_weight - расчитывает взвешенные метрики на основе веса каждого примера\n",
        "\n",
        "* __metrics.confusion_matrix__ - вычисляет матрицу ошибок модели для оценки точности классификации. Матрица ошибок идеальной модели имеет значения только на главной диагонали. Может быть использована для подсчёта всех классических метрик классификации (доля правильных ответов, полнота, точность, специфичность, f1-мера)."
      ]
    },
    {
      "cell_type": "markdown",
      "metadata": {
        "id": "IHlZJ6u8foPb"
      },
      "source": [
        "### Методы и функции PIL\n",
        "\n",
        "(Документация: https://pillow.readthedocs.io/en/stable/)"
      ]
    },
    {
      "cell_type": "markdown",
      "metadata": {
        "id": "LiZ6VpgQfoPb"
      },
      "source": [
        "* __Image.fromarray__ - cоздает объект Image на основе двухмерного массива или двухмерного массива с каналами. Часто ругается, если тип данных не uint8. Часто ругается, если производится попытка создать черно-белое изображения из картинки размерностью (W, H, 1). Для того, чтобы получить обратно массив из объекта Image, достаточно привести его к NumPy массиву, например np.array(img)\n",
        "\n",
        "* __Image.resize__ - меняет разрешение изображения с помощью интерполяции. Первым аргументом указывается список с новой шириной и высотой изображения. При желании можно указать тип интерполяции через аргумент resample. Поддерживаемые значения: PIL.Image.NEAREST, PIL.Image.BOX, PIL.Image.BILINEAR, PIL.Image.HAMMING, PIL.Image.BICUBIC, PIL.Image.LANCZOS. По умолчанию используется бикубическая интерполяция.\n",
        "\n",
        "* __Image.convert__ - переводит изображение из одной цветовой схемы в другую. Новая цветовая схема передается строкой, L - черно белая, LA - черно-белая с прозрачностью, RGB - стандартная цветовая схема с 3 каналами, RGBA - стандартная цветовая схема с 3 каналами цвета и одним каналом прозрачности, HSV - альтернативное цветовое представление и т.д.\n",
        "\n",
        "* __Image.open__ - считывает изображение по указанному пути в виде строки или FileObject. При создании набора данных может неправильно определить формат (например L вместо RGB), поэтому рекомендуется сразу после open приводить к нужному формату при помощи метода convert\n",
        "\n",
        "* __Image.save__ - сохраняет изображение по указанному пути в виде строки или FileObject. Если указывается FileObject, то нужно также указать формат изображения в аргументе format, например 'PNG' или 'JPEG'"
      ]
    },
    {
      "cell_type": "markdown",
      "metadata": {
        "id": "lbgjhQ_QfoPb"
      },
      "source": [
        "### Методы и функции Matplotlib\n",
        "\n",
        "(Документация: https://matplotlib.org/stable/api/index.html)"
      ]
    },
    {
      "cell_type": "markdown",
      "metadata": {
        "id": "WkICIncTfoPc"
      },
      "source": [
        "Принятые сокращения:\n",
        "* matplotlib.pyplot - plt\n",
        "\n",
        "Методы:\n",
        "* __plt.plot__ - рисует график по точкам и соединяет их линией. Первым аргументом передаются x-координаты, вторым - у-координаты. Если не передавать второй аргумент, х координаты будут приняты за у, а в качестве х будут использованы отсчёты массива. Дополнительные полезные аргументы: linestyle - тип отображаемой линиии ('--', '-', '-.' и т.д.), color - цвет линии ('k' - черный, 'r' - красный, 'white' - белый и т.д.), alpha - прозрачность линии, число от 0 (линия не видна) до 1 (нет прозрачности), label - текстовая метка данного графика.\n",
        "* __plt.scatter__ - рисует график по точкам юез соединения линиями. Первым аргументом передаются x-координаты, вторым - у-координаты. Если не передавать второй аргумент, х координаты будут приняты за у, а в качестве х будут использованы отсчёты массива. Дополнительные полезные аргументы: s - размер точек, color - цвет точек ('k' - черный, 'r' - красный, 'white' - белый и т.д.), alpha - прозрачность точек, число от 0 (линия не видна) до 1 (нет прозрачности), label - текстовая метка данного графика.\n",
        "* __plt.contourf__ - рисует заполненные контурные линии, разграничивающие границы.\n",
        "* __plt.show__ - принудительная отрисовка графика, может использоваться для вывода нескольких графиков в одном блоке кода.\n",
        "* __plt.legend__ - отображает ранее указанные метки графиков\n",
        "* __plt.xlim__ - ограничивает диапазон x-координат от первого до второго аргумента. По умолчанию диапазон горизонтальной оси подбирается автоматически на основе используемых данных. Для задания диапозана значений горизонтальной оси вручную и используется данный метод\n",
        "* __plt.ylim__ - аналогично __plt.xlim__, но для вертикальнйо оси.\n",
        "\n",
        "\n",
        "\n"
      ]
    }
  ],
  "metadata": {
    "colab": {
      "collapsed_sections": [
        "VrOocc6D_O7M",
        "CTpTR1x0YYdn",
        "qq1r9u6hSucR",
        "OF4X4J8_YlLo",
        "4zoT9OgeY7cZ",
        "HFzEnQacoQwb"
      ],
      "name": "Lab1.ipynb",
      "provenance": [],
      "include_colab_link": true
    },
    "kernelspec": {
      "display_name": "Python 3",
      "name": "python3"
    },
    "language_info": {
      "name": "python"
    }
  },
  "nbformat": 4,
  "nbformat_minor": 0
}